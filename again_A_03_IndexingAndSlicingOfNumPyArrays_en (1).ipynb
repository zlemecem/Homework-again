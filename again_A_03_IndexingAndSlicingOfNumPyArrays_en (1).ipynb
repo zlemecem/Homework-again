{
  "nbformat": 4,
  "nbformat_minor": 0,
  "metadata": {
    "kernelspec": {
      "display_name": "Python 3",
      "language": "python",
      "name": "python3"
    },
    "language_info": {
      "codemirror_mode": {
        "name": "ipython",
        "version": 3
      },
      "file_extension": ".py",
      "mimetype": "text/x-python",
      "name": "python",
      "nbconvert_exporter": "python",
      "pygments_lexer": "ipython3",
      "version": "3.8.2"
    },
    "colab": {
      "name": "again-A_03_IndexingAndSlicingOfNumPyArrays_en.ipynb",
      "provenance": []
    }
  },
  "cells": [
    {
      "cell_type": "markdown",
      "metadata": {
        "id": "fLgaV_vXSj9o"
      },
      "source": [
        "For the assignment, you are going to use [Earthquakes](https://bootrain-lms-assets.s3.eu-central-1.amazonaws.com/bootrain-lms-static/datasets/Earthquakes.csv) dataset."
      ]
    },
    {
      "cell_type": "markdown",
      "metadata": {
        "id": "15b5dY9sSj9u"
      },
      "source": [
        "**(1)** Load the Earthquakes dataset. Export the dataset to an array as you covered in the previous lesson."
      ]
    },
    {
      "cell_type": "code",
      "metadata": {
        "id": "U2lQmuRgSj9v",
        "colab": {
          "base_uri": "https://localhost:8080/"
        },
        "outputId": "b0e7e872-4d70-452b-bcd7-40c1b3a737b4"
      },
      "source": [
        "import csv\n",
        "import numpy as np\n",
        "from numpy import genfromtxt\n",
        "earth = genfromtxt('Earthquakes.csv', delimiter=',')\n",
        "earth\n",
        "earth.shape"
      ],
      "execution_count": null,
      "outputs": [
        {
          "output_type": "execute_result",
          "data": {
            "text/plain": [
              "(6574, 15)"
            ]
          },
          "metadata": {
            "tags": []
          },
          "execution_count": 82
        }
      ]
    },
    {
      "cell_type": "markdown",
      "metadata": {
        "id": "qANZqSzlSj9v"
      },
      "source": [
        "**(2)** Slice first 20 rows and column numbers 3, 5, 6, 7, 12. Then, assign the array you sliced to a variable."
      ]
    },
    {
      "cell_type": "code",
      "metadata": {
        "id": "XXPm1R3aSj9v",
        "colab": {
          "base_uri": "https://localhost:8080/"
        },
        "outputId": "833acbc2-9e4b-4acc-ec0e-9200ed83c7b2"
      },
      "source": [
        "array= earth[:20, [3, 5, 6, 7, 12]]\n",
        "array"
      ],
      "execution_count": null,
      "outputs": [
        {
          "output_type": "execute_result",
          "data": {
            "text/plain": [
              "array([[ 0.    , 36.8578, 44.4161, 16.97  ,  4.    ],\n",
              "       [ 0.    , 37.4341, 35.852 ,  7.02  ,  4.1   ],\n",
              "       [ 0.    , 37.6878, 37.4016, 10.27  ,  4.4   ],\n",
              "       [ 0.    , 37.2003, 30.4376, 78.07  ,  4.    ],\n",
              "       [ 0.    , 35.6846, 26.7266, 42.77  ,  4.5   ],\n",
              "       [ 0.    , 36.4171, 28.6991, 14.86  ,  4.1   ],\n",
              "       [ 0.    , 36.0535, 31.2135, 36.68  ,  5.2   ],\n",
              "       [ 0.    , 37.1958, 30.6241, 50.33  ,  4.8   ],\n",
              "       [ 0.    , 36.9653, 27.7633,  6.93  ,  4.3   ],\n",
              "       [ 0.    , 38.893 , 26.4483, 11.62  ,  4.2   ],\n",
              "       [ 0.    , 37.3773, 36.3855, 10.53  ,  4.8   ],\n",
              "       [ 0.    , 35.8861, 26.0695, 28.49  ,  4.9   ],\n",
              "       [ 0.    , 37.4635, 36.3113, 15.29  ,  4.3   ],\n",
              "       [ 0.    , 37.0201, 36.0845, 10.    ,  4.1   ],\n",
              "       [ 0.    , 37.6546, 26.6698,  4.5   ,  4.5   ],\n",
              "       [ 0.    , 37.5318, 29.848 , 17.58  ,  4.6   ],\n",
              "       [ 0.    , 39.0388, 44.1533,  7.52  ,  4.5   ],\n",
              "       [ 0.    , 38.357 , 44.8686, 10.05  ,  4.1   ],\n",
              "       [ 0.    , 35.7018, 28.1495,  6.25  ,  4.1   ],\n",
              "       [ 0.    , 37.6883, 37.3968, 10.63  ,  4.1   ]])"
            ]
          },
          "metadata": {
            "tags": []
          },
          "execution_count": 83
        }
      ]
    },
    {
      "cell_type": "markdown",
      "metadata": {
        "id": "J-QCHxeYSj9w"
      },
      "source": [
        "**(3)** Display the row numbers where last values are equal to 4.5 or higher."
      ]
    },
    {
      "cell_type": "code",
      "metadata": {
        "colab": {
          "base_uri": "https://localhost:8080/"
        },
        "id": "PnhCR99R4EuQ",
        "outputId": "f084b706-a93c-49ec-f2ab-034951bf1087"
      },
      "source": [
        "for a in range(20):\n",
        "  if array[a][4]==4.5 or array[a][4]>4.5:\n",
        "    print(str(a)+\". row\")"
      ],
      "execution_count": null,
      "outputs": [
        {
          "output_type": "stream",
          "text": [
            "4. row\n",
            "6. row\n",
            "7. row\n",
            "10. row\n",
            "11. row\n",
            "14. row\n",
            "15. row\n",
            "16. row\n"
          ],
          "name": "stdout"
        }
      ]
    },
    {
      "cell_type": "markdown",
      "metadata": {
        "id": "JL_3gJJqSj9w"
      },
      "source": [
        "**(4)** Assign 1 to first row."
      ]
    },
    {
      "cell_type": "code",
      "metadata": {
        "id": "LvKP8W0aSj9w",
        "colab": {
          "base_uri": "https://localhost:8080/"
        },
        "outputId": "27618f3e-dcfd-4930-cf1c-ae7e9dd7b283"
      },
      "source": [
        "array[0]=1\n",
        "array"
      ],
      "execution_count": null,
      "outputs": [
        {
          "output_type": "execute_result",
          "data": {
            "text/plain": [
              "array([[ 1.    ,  1.    ,  1.    ,  1.    ,  1.    ],\n",
              "       [ 0.    , 37.4341, 35.852 ,  7.02  ,  4.1   ],\n",
              "       [ 0.    , 37.6878, 37.4016, 10.27  ,  4.4   ],\n",
              "       [ 0.    , 37.2003, 30.4376, 78.07  ,  4.    ],\n",
              "       [ 0.    , 35.6846, 26.7266, 42.77  ,  4.5   ],\n",
              "       [ 0.    , 36.4171, 28.6991, 14.86  ,  4.1   ],\n",
              "       [ 0.    , 36.0535, 31.2135, 36.68  ,  5.2   ],\n",
              "       [ 0.    , 37.1958, 30.6241, 50.33  ,  4.8   ],\n",
              "       [ 0.    , 36.9653, 27.7633,  6.93  ,  4.3   ],\n",
              "       [ 0.    , 38.893 , 26.4483, 11.62  ,  4.2   ],\n",
              "       [ 0.    , 37.3773, 36.3855, 10.53  ,  4.8   ],\n",
              "       [ 0.    , 35.8861, 26.0695, 28.49  ,  4.9   ],\n",
              "       [ 0.    , 37.4635, 36.3113, 15.29  ,  4.3   ],\n",
              "       [ 0.    , 37.0201, 36.0845, 10.    ,  4.1   ],\n",
              "       [ 0.    , 37.6546, 26.6698,  4.5   ,  4.5   ],\n",
              "       [ 0.    , 37.5318, 29.848 , 17.58  ,  4.6   ],\n",
              "       [ 0.    , 39.0388, 44.1533,  7.52  ,  4.5   ],\n",
              "       [ 0.    , 38.357 , 44.8686, 10.05  ,  4.1   ],\n",
              "       [ 0.    , 35.7018, 28.1495,  6.25  ,  4.1   ],\n",
              "       [ 0.    , 37.6883, 37.3968, 10.63  ,  4.1   ]])"
            ]
          },
          "metadata": {
            "tags": []
          },
          "execution_count": 85
        }
      ]
    },
    {
      "cell_type": "markdown",
      "metadata": {
        "id": "o7pY3bMdSj9x"
      },
      "source": [
        "**(5)** Save the final state of the array to disk. You are going to use this in the next assignment."
      ]
    },
    {
      "cell_type": "code",
      "metadata": {
        "id": "SR69q0N9Sj9x"
      },
      "source": [
        "np.save('array', array)"
      ],
      "execution_count": 89,
      "outputs": []
    }
  ]
}