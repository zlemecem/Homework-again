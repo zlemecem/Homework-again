{
  "nbformat": 4,
  "nbformat_minor": 0,
  "metadata": {
    "kernelspec": {
      "display_name": "Python 3",
      "language": "python",
      "name": "python3"
    },
    "language_info": {
      "codemirror_mode": {
        "name": "ipython",
        "version": 3
      },
      "file_extension": ".py",
      "mimetype": "text/x-python",
      "name": "python",
      "nbconvert_exporter": "python",
      "pygments_lexer": "ipython3",
      "version": "3.7.3"
    },
    "colab": {
      "name": "Again of A_08_GroupingAndAggregationOperationsOnDataFrames_en.ipynb",
      "provenance": []
    }
  },
  "cells": [
    {
      "cell_type": "markdown",
      "metadata": {
        "id": "zTOA3yGE7hox"
      },
      "source": [
        "For Pandas assignments, you are going to use [Titanic](https://www.kaggle.com/c/titanic/download/GQf0y8ebHO0C4JXscPPp%2Fversions%2FXkNkvXwqPPVG0Qt3MtQT%2Ffiles%2Ftrain.csv) (train.csv) dataset. Download the dataset and load to a data frame.\n",
        "\n",
        "**(1)** Calculate the average age of the passengers for each gender and passenger class by using `groupby()` method."
      ]
    },
    {
      "cell_type": "code",
      "metadata": {
        "id": "RmvVQ80x-qSc"
      },
      "source": [
        "import numpy as np \n",
        "import pandas as pd\n",
        "train=pd.read_csv('train.csv')"
      ],
      "execution_count": 41,
      "outputs": []
    },
    {
      "cell_type": "code",
      "metadata": {
        "colab": {
          "base_uri": "https://localhost:8080/",
          "height": 247
        },
        "id": "mv2k0nGd_J8y",
        "outputId": "6435c171-b26d-4d77-8c48-80f0b7fec99a"
      },
      "source": [
        "train.head()"
      ],
      "execution_count": 42,
      "outputs": [
        {
          "output_type": "execute_result",
          "data": {
            "text/html": [
              "<div>\n",
              "<style scoped>\n",
              "    .dataframe tbody tr th:only-of-type {\n",
              "        vertical-align: middle;\n",
              "    }\n",
              "\n",
              "    .dataframe tbody tr th {\n",
              "        vertical-align: top;\n",
              "    }\n",
              "\n",
              "    .dataframe thead th {\n",
              "        text-align: right;\n",
              "    }\n",
              "</style>\n",
              "<table border=\"1\" class=\"dataframe\">\n",
              "  <thead>\n",
              "    <tr style=\"text-align: right;\">\n",
              "      <th></th>\n",
              "      <th>PassengerId</th>\n",
              "      <th>Survived</th>\n",
              "      <th>Pclass</th>\n",
              "      <th>Name</th>\n",
              "      <th>Sex</th>\n",
              "      <th>Age</th>\n",
              "      <th>SibSp</th>\n",
              "      <th>Parch</th>\n",
              "      <th>Ticket</th>\n",
              "      <th>Fare</th>\n",
              "      <th>Cabin</th>\n",
              "      <th>Embarked</th>\n",
              "    </tr>\n",
              "  </thead>\n",
              "  <tbody>\n",
              "    <tr>\n",
              "      <th>0</th>\n",
              "      <td>1</td>\n",
              "      <td>0</td>\n",
              "      <td>3</td>\n",
              "      <td>Braund, Mr. Owen Harris</td>\n",
              "      <td>male</td>\n",
              "      <td>22.0</td>\n",
              "      <td>1</td>\n",
              "      <td>0</td>\n",
              "      <td>A/5 21171</td>\n",
              "      <td>7.2500</td>\n",
              "      <td>NaN</td>\n",
              "      <td>S</td>\n",
              "    </tr>\n",
              "    <tr>\n",
              "      <th>1</th>\n",
              "      <td>2</td>\n",
              "      <td>1</td>\n",
              "      <td>1</td>\n",
              "      <td>Cumings, Mrs. John Bradley (Florence Briggs Th...</td>\n",
              "      <td>female</td>\n",
              "      <td>38.0</td>\n",
              "      <td>1</td>\n",
              "      <td>0</td>\n",
              "      <td>PC 17599</td>\n",
              "      <td>71.2833</td>\n",
              "      <td>C85</td>\n",
              "      <td>C</td>\n",
              "    </tr>\n",
              "    <tr>\n",
              "      <th>2</th>\n",
              "      <td>3</td>\n",
              "      <td>1</td>\n",
              "      <td>3</td>\n",
              "      <td>Heikkinen, Miss. Laina</td>\n",
              "      <td>female</td>\n",
              "      <td>26.0</td>\n",
              "      <td>0</td>\n",
              "      <td>0</td>\n",
              "      <td>STON/O2. 3101282</td>\n",
              "      <td>7.9250</td>\n",
              "      <td>NaN</td>\n",
              "      <td>S</td>\n",
              "    </tr>\n",
              "    <tr>\n",
              "      <th>3</th>\n",
              "      <td>4</td>\n",
              "      <td>1</td>\n",
              "      <td>1</td>\n",
              "      <td>Futrelle, Mrs. Jacques Heath (Lily May Peel)</td>\n",
              "      <td>female</td>\n",
              "      <td>35.0</td>\n",
              "      <td>1</td>\n",
              "      <td>0</td>\n",
              "      <td>113803</td>\n",
              "      <td>53.1000</td>\n",
              "      <td>C123</td>\n",
              "      <td>S</td>\n",
              "    </tr>\n",
              "    <tr>\n",
              "      <th>4</th>\n",
              "      <td>5</td>\n",
              "      <td>0</td>\n",
              "      <td>3</td>\n",
              "      <td>Allen, Mr. William Henry</td>\n",
              "      <td>male</td>\n",
              "      <td>35.0</td>\n",
              "      <td>0</td>\n",
              "      <td>0</td>\n",
              "      <td>373450</td>\n",
              "      <td>8.0500</td>\n",
              "      <td>NaN</td>\n",
              "      <td>S</td>\n",
              "    </tr>\n",
              "  </tbody>\n",
              "</table>\n",
              "</div>"
            ],
            "text/plain": [
              "   PassengerId  Survived  Pclass  ...     Fare Cabin  Embarked\n",
              "0            1         0       3  ...   7.2500   NaN         S\n",
              "1            2         1       1  ...  71.2833   C85         C\n",
              "2            3         1       3  ...   7.9250   NaN         S\n",
              "3            4         1       1  ...  53.1000  C123         S\n",
              "4            5         0       3  ...   8.0500   NaN         S\n",
              "\n",
              "[5 rows x 12 columns]"
            ]
          },
          "metadata": {
            "tags": []
          },
          "execution_count": 42
        }
      ]
    },
    {
      "cell_type": "code",
      "metadata": {
        "colab": {
          "base_uri": "https://localhost:8080/"
        },
        "id": "yZpKqoc8_mcy",
        "outputId": "cdb2fa69-8771-4678-8939-59302983f8c5"
      },
      "source": [
        "train.columns"
      ],
      "execution_count": 43,
      "outputs": [
        {
          "output_type": "execute_result",
          "data": {
            "text/plain": [
              "Index(['PassengerId', 'Survived', 'Pclass', 'Name', 'Sex', 'Age', 'SibSp',\n",
              "       'Parch', 'Ticket', 'Fare', 'Cabin', 'Embarked'],\n",
              "      dtype='object')"
            ]
          },
          "metadata": {
            "tags": []
          },
          "execution_count": 43
        }
      ]
    },
    {
      "cell_type": "code",
      "metadata": {
        "colab": {
          "base_uri": "https://localhost:8080/"
        },
        "id": "9rGu9fmW_Frv",
        "outputId": "c23c9320-b7d5-4592-e324-e268f2eb3b59"
      },
      "source": [
        "mean_age_sp=train.groupby([\"Sex\", \"Pclass\"]).mean().Age\n",
        "mean_age_sp"
      ],
      "execution_count": 44,
      "outputs": [
        {
          "output_type": "execute_result",
          "data": {
            "text/plain": [
              "Sex     Pclass\n",
              "female  1         34.611765\n",
              "        2         28.722973\n",
              "        3         21.750000\n",
              "male    1         41.281386\n",
              "        2         30.740707\n",
              "        3         26.507589\n",
              "Name: Age, dtype: float64"
            ]
          },
          "metadata": {
            "tags": []
          },
          "execution_count": 44
        }
      ]
    },
    {
      "cell_type": "markdown",
      "metadata": {
        "id": "K3PNLTL7-qSe"
      },
      "source": [
        "**(2)** Group by embarkation port and print values. (Notice that you get unique values with this.)"
      ]
    },
    {
      "cell_type": "code",
      "metadata": {
        "id": "RrqGXhIp-qSf",
        "colab": {
          "base_uri": "https://localhost:8080/"
        },
        "outputId": "dc54d388-d5f9-4834-db5b-0b22fdafb292"
      },
      "source": [
        "for i in train.columns[0:11]:\n",
        "  print(train.groupby(by=\"Embarked\").count()[i])"
      ],
      "execution_count": 45,
      "outputs": [
        {
          "output_type": "stream",
          "text": [
            "Embarked\n",
            "C    168\n",
            "Q     77\n",
            "S    644\n",
            "Name: PassengerId, dtype: int64\n",
            "Embarked\n",
            "C    168\n",
            "Q     77\n",
            "S    644\n",
            "Name: Survived, dtype: int64\n",
            "Embarked\n",
            "C    168\n",
            "Q     77\n",
            "S    644\n",
            "Name: Pclass, dtype: int64\n",
            "Embarked\n",
            "C    168\n",
            "Q     77\n",
            "S    644\n",
            "Name: Name, dtype: int64\n",
            "Embarked\n",
            "C    168\n",
            "Q     77\n",
            "S    644\n",
            "Name: Sex, dtype: int64\n",
            "Embarked\n",
            "C    130\n",
            "Q     28\n",
            "S    554\n",
            "Name: Age, dtype: int64\n",
            "Embarked\n",
            "C    168\n",
            "Q     77\n",
            "S    644\n",
            "Name: SibSp, dtype: int64\n",
            "Embarked\n",
            "C    168\n",
            "Q     77\n",
            "S    644\n",
            "Name: Parch, dtype: int64\n",
            "Embarked\n",
            "C    168\n",
            "Q     77\n",
            "S    644\n",
            "Name: Ticket, dtype: int64\n",
            "Embarked\n",
            "C    168\n",
            "Q     77\n",
            "S    644\n",
            "Name: Fare, dtype: int64\n",
            "Embarked\n",
            "C     69\n",
            "Q      4\n",
            "S    129\n",
            "Name: Cabin, dtype: int64\n"
          ],
          "name": "stdout"
        }
      ]
    }
  ]
}