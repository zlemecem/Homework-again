{
  "nbformat": 4,
  "nbformat_minor": 0,
  "metadata": {
    "kernelspec": {
      "display_name": "Python 3",
      "language": "python",
      "name": "python3"
    },
    "language_info": {
      "codemirror_mode": {
        "name": "ipython",
        "version": 3
      },
      "file_extension": ".py",
      "mimetype": "text/x-python",
      "name": "python",
      "nbconvert_exporter": "python",
      "pygments_lexer": "ipython3",
      "version": "3.8.2"
    },
    "colab": {
      "name": "Again-of A_04_MathematicalOperationsONumPyArrays_en.ipynb",
      "provenance": []
    }
  },
  "cells": [
    {
      "cell_type": "markdown",
      "metadata": {
        "id": "fd4Ozm0O8j_v"
      },
      "source": [
        "**(1)** Load the array you saved in the previous lesson from the disk."
      ]
    },
    {
      "cell_type": "code",
      "metadata": {
        "id": "AU5zWAwi8j_0"
      },
      "source": [
        "import csv\n",
        "import numpy as np\n",
        "array=np.load('array.npy')"
      ],
      "execution_count": 48,
      "outputs": []
    },
    {
      "cell_type": "code",
      "metadata": {
        "id": "oqoO8Dna8r3W",
        "colab": {
          "base_uri": "https://localhost:8080/"
        },
        "outputId": "2cf10229-abaa-4d1e-e506-599751e49b58"
      },
      "source": [
        "array"
      ],
      "execution_count": 49,
      "outputs": [
        {
          "output_type": "execute_result",
          "data": {
            "text/plain": [
              "array([[ 1.    ,  1.    ,  1.    ,  1.    ,  1.    ],\n",
              "       [ 0.    , 37.4341, 35.852 ,  7.02  ,  4.1   ],\n",
              "       [ 0.    , 37.6878, 37.4016, 10.27  ,  4.4   ],\n",
              "       [ 0.    , 37.2003, 30.4376, 78.07  ,  4.    ],\n",
              "       [ 0.    , 35.6846, 26.7266, 42.77  ,  4.5   ],\n",
              "       [ 0.    , 36.4171, 28.6991, 14.86  ,  4.1   ],\n",
              "       [ 0.    , 36.0535, 31.2135, 36.68  ,  5.2   ],\n",
              "       [ 0.    , 37.1958, 30.6241, 50.33  ,  4.8   ],\n",
              "       [ 0.    , 36.9653, 27.7633,  6.93  ,  4.3   ],\n",
              "       [ 0.    , 38.893 , 26.4483, 11.62  ,  4.2   ],\n",
              "       [ 0.    , 37.3773, 36.3855, 10.53  ,  4.8   ],\n",
              "       [ 0.    , 35.8861, 26.0695, 28.49  ,  4.9   ],\n",
              "       [ 0.    , 37.4635, 36.3113, 15.29  ,  4.3   ],\n",
              "       [ 0.    , 37.0201, 36.0845, 10.    ,  4.1   ],\n",
              "       [ 0.    , 37.6546, 26.6698,  4.5   ,  4.5   ],\n",
              "       [ 0.    , 37.5318, 29.848 , 17.58  ,  4.6   ],\n",
              "       [ 0.    , 39.0388, 44.1533,  7.52  ,  4.5   ],\n",
              "       [ 0.    , 38.357 , 44.8686, 10.05  ,  4.1   ],\n",
              "       [ 0.    , 35.7018, 28.1495,  6.25  ,  4.1   ],\n",
              "       [ 0.    , 37.6883, 37.3968, 10.63  ,  4.1   ]])"
            ]
          },
          "metadata": {
            "tags": []
          },
          "execution_count": 49
        }
      ]
    },
    {
      "cell_type": "markdown",
      "metadata": {
        "id": "5ZVPO5yx8j_3"
      },
      "source": [
        "**(2)** Display the mean and the standard deviation for each column."
      ]
    },
    {
      "cell_type": "code",
      "metadata": {
        "id": "BhzTqJGj8j_5",
        "colab": {
          "base_uri": "https://localhost:8080/"
        },
        "outputId": "2b3742dd-a84a-4262-a0d3-8bb1e96009b3"
      },
      "source": [
        "print(\" Mean of each column :\",array.mean(axis = 0))"
      ],
      "execution_count": 50,
      "outputs": [
        {
          "output_type": "stream",
          "text": [
            " Mean of each column : [ 0.05     35.41254  31.105145 19.0195    4.23    ]\n"
          ],
          "name": "stdout"
        }
      ]
    },
    {
      "cell_type": "code",
      "metadata": {
        "colab": {
          "base_uri": "https://localhost:8080/"
        },
        "id": "G24W0LwYC5Ht",
        "outputId": "3f8d707f-d4ad-46a4-f47a-53dbaf41f54f"
      },
      "source": [
        "print(\"Standart deviation of each column :\",array.std(axis = 0))"
      ],
      "execution_count": 51,
      "outputs": [
        {
          "output_type": "stream",
          "text": [
            "Standart deviation of each column : [ 0.21794495  7.94782002  8.83572219 18.73871326  0.80690768]\n"
          ],
          "name": "stdout"
        }
      ]
    },
    {
      "cell_type": "markdown",
      "metadata": {
        "id": "h0yYH46W8j_7"
      },
      "source": [
        "**(3)** Subtract 1, 25, 25, 10, 4 from columns in order. (Remember it can be subtracted in one line of code.)"
      ]
    },
    {
      "cell_type": "code",
      "metadata": {
        "id": "I2UV7Zhn8j_9",
        "colab": {
          "base_uri": "https://localhost:8080/"
        },
        "outputId": "2c202b5e-50cd-4561-f48b-887a7bbda944"
      },
      "source": [
        "for i in range(20):\n",
        "  for j in range(5):\n",
        "    target=[1,25,25,10,4]\n",
        "    array[i][j]=np.round(np.subtract(array[i][j],target[j]))\n",
        "array"
      ],
      "execution_count": 52,
      "outputs": [
        {
          "output_type": "execute_result",
          "data": {
            "text/plain": [
              "array([[  0., -24., -24.,  -9.,  -3.],\n",
              "       [ -1.,  12.,  11.,  -3.,   0.],\n",
              "       [ -1.,  13.,  12.,   0.,   0.],\n",
              "       [ -1.,  12.,   5.,  68.,   0.],\n",
              "       [ -1.,  11.,   2.,  33.,   0.],\n",
              "       [ -1.,  11.,   4.,   5.,   0.],\n",
              "       [ -1.,  11.,   6.,  27.,   1.],\n",
              "       [ -1.,  12.,   6.,  40.,   1.],\n",
              "       [ -1.,  12.,   3.,  -3.,   0.],\n",
              "       [ -1.,  14.,   1.,   2.,   0.],\n",
              "       [ -1.,  12.,  11.,   1.,   1.],\n",
              "       [ -1.,  11.,   1.,  18.,   1.],\n",
              "       [ -1.,  12.,  11.,   5.,   0.],\n",
              "       [ -1.,  12.,  11.,   0.,   0.],\n",
              "       [ -1.,  13.,   2.,  -6.,   0.],\n",
              "       [ -1.,  13.,   5.,   8.,   1.],\n",
              "       [ -1.,  14.,  19.,  -2.,   0.],\n",
              "       [ -1.,  13.,  20.,   0.,   0.],\n",
              "       [ -1.,  11.,   3.,  -4.,   0.],\n",
              "       [ -1.,  13.,  12.,   1.,   0.]])"
            ]
          },
          "metadata": {
            "tags": []
          },
          "execution_count": 52
        }
      ]
    },
    {
      "cell_type": "markdown",
      "metadata": {
        "id": "wfkrlM1r8j_9"
      },
      "source": [
        "**(4)** Multiply each element by 2. (Remember it can be multiplied in one line of code.)"
      ]
    },
    {
      "cell_type": "code",
      "metadata": {
        "id": "Gu6EMC4c8j_-",
        "colab": {
          "base_uri": "https://localhost:8080/"
        },
        "outputId": "c41aeb47-1a85-48dd-bcb5-4f04ce1f7e7d"
      },
      "source": [
        "array*2"
      ],
      "execution_count": 53,
      "outputs": [
        {
          "output_type": "execute_result",
          "data": {
            "text/plain": [
              "array([[  0., -48., -48., -18.,  -6.],\n",
              "       [ -2.,  24.,  22.,  -6.,   0.],\n",
              "       [ -2.,  26.,  24.,   0.,   0.],\n",
              "       [ -2.,  24.,  10., 136.,   0.],\n",
              "       [ -2.,  22.,   4.,  66.,   0.],\n",
              "       [ -2.,  22.,   8.,  10.,   0.],\n",
              "       [ -2.,  22.,  12.,  54.,   2.],\n",
              "       [ -2.,  24.,  12.,  80.,   2.],\n",
              "       [ -2.,  24.,   6.,  -6.,   0.],\n",
              "       [ -2.,  28.,   2.,   4.,   0.],\n",
              "       [ -2.,  24.,  22.,   2.,   2.],\n",
              "       [ -2.,  22.,   2.,  36.,   2.],\n",
              "       [ -2.,  24.,  22.,  10.,   0.],\n",
              "       [ -2.,  24.,  22.,   0.,   0.],\n",
              "       [ -2.,  26.,   4., -12.,   0.],\n",
              "       [ -2.,  26.,  10.,  16.,   2.],\n",
              "       [ -2.,  28.,  38.,  -4.,   0.],\n",
              "       [ -2.,  26.,  40.,   0.,   0.],\n",
              "       [ -2.,  22.,   6.,  -8.,   0.],\n",
              "       [ -2.,  26.,  24.,   2.,   0.]])"
            ]
          },
          "metadata": {
            "tags": []
          },
          "execution_count": 53
        }
      ]
    }
  ]
}